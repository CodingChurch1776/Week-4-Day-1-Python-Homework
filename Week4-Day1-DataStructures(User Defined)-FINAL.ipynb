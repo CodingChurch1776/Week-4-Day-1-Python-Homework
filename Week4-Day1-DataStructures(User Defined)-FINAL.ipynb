{
 "cells": [
  {
   "cell_type": "markdown",
   "metadata": {},
   "source": [
    "# Intro to Data Structures (User Defined)\n",
    "\n",
    "### Data Structures to discuss:\n",
    "- Stacks\n",
    "- Queues\n",
    "- Linked Lists\n",
    "    - Singly Linked Lists\n",
    "    - Traversing A Linked List\n",
    "    - Finding a node in a linked list\n",
    "    - Adding to a linked list\n",
    "- Binary Search Trees\n",
    "    - Construction\n",
    "    - Traversal\n",
    "- If we have time...\n",
    "    - Intro to SQL\n",
    "    - Installing Postgres/PGAdmin4"
   ]
  },
  {
   "cell_type": "markdown",
   "metadata": {},
   "source": [
    "## Stacks and Queues (Review)\n",
    "\n",
    "** Stacks ** as the name suggests is a data structure that allows for data to follow the Last In First Out priciple(LIFO). Think of a stack of pancakes for example. To get the first pancake you would  start with the top and go down.\n",
    "\n",
    "##### Searching through a stack will be Linear Time O(n) - Constant Space O(1)\n",
    "##### Selecting the last item will be done in Constant Time O(1) - Constant Space O(1)\n",
    "##### Adding to the stack should take Constant Time O(1) - Constant Space O(1)\n",
    "\n",
    "** Queues ** are similar but in this case follow the First In First Out principle(FIFO). Think of this as a line in a black friday sale. The first person camped out for the big screen tv is the first to get it.\n",
    "\n",
    "##### Searching through a queue will be Linear Time O(n) - Constant Space O(1)\n",
    "##### Selecting the first item will be done in Constant Time O(1) - Constant Space O(1)\n",
    "##### Adding to the queue should take Constant Time O(1) - Constant Space O(1)"
   ]
  },
  {
   "cell_type": "code",
   "execution_count": null,
   "metadata": {},
   "outputs": [],
   "source": []
  },
  {
   "cell_type": "code",
   "execution_count": 2,
   "metadata": {},
   "outputs": [
    {
     "name": "stdout",
     "output_type": "stream",
     "text": [
      "30\n",
      "10\n",
      "20\n"
     ]
    }
   ],
   "source": [
    "# Python lists function as stacks (if we want them to)\n",
    "\n",
    "stack = []\n",
    "\n",
    "stack.append(10) # O(1) to add to list\n",
    "stack.append(20)\n",
    "stack.append(30)\n",
    "\n",
    "#removal of the final item (pop()) O(1)\n",
    "# removal from end of the list.\n",
    "# We can also pop at a specific index - if we do that this becomes a linear operation O(n)\n",
    "last_item = stack.pop() #built in pop function\n",
    "print(last_item)\n",
    "\n",
    "# Searching through or looping\n",
    "\n",
    "for i in stack:\n",
    "    print(i)\n",
    "    \n",
    "\n"
   ]
  },
  {
   "cell_type": "code",
   "execution_count": 3,
   "metadata": {},
   "outputs": [
    {
     "data": {
      "text/plain": [
       "10"
      ]
     },
     "execution_count": 3,
     "metadata": {},
     "output_type": "execute_result"
    }
   ],
   "source": [
    "# Know about the existence of queues\n",
    "# Built in queue functionality (collections deques)\n",
    "\n",
    "first_item = stack.pop(0)\n",
    "first_item"
   ]
  },
  {
   "cell_type": "markdown",
   "metadata": {},
   "source": [
    "## Linked List (Data Structure)\n",
    "\n",
    "A linked list is created by using the node class. We create a Node object and create another class to use this node object. We pass the appropriate values thorugh the node object to point the to the next data elements.\n",
    "\n",
    "There are some advantages and disadvantages with this data structure. **Advantages** Linked Lists can save memory because they can be flexibile with memory management which saves memory. **Disadvantages** Finding or adding to the list requires traversing the entire list."
   ]
  },
  {
   "cell_type": "code",
   "execution_count": 4,
   "metadata": {},
   "outputs": [
    {
     "name": "stdout",
     "output_type": "stream",
     "text": [
      "Mon\n",
      "Tue\n",
      "Wed\n",
      "None\n"
     ]
    }
   ],
   "source": [
    "class LinkedListNode:\n",
    "    def __init__(self,value):\n",
    "        self.value = value\n",
    "        self.next = None\n",
    "    \n",
    "    def traverseList(self):\n",
    "        node = self\n",
    "        while node != None:\n",
    "            print(node.value)\n",
    "            node = node.next\n",
    "\n",
    "node1 = LinkedListNode('Mon')\n",
    "node2 = LinkedListNode('Tue')\n",
    "node3 = LinkedListNode('Wed')\n",
    "\n",
    "\n",
    "\n",
    "node1.next = node2\n",
    "node2.next = node3\n",
    "\n",
    "print(node1.traverseList())\n"
   ]
  },
  {
   "cell_type": "code",
   "execution_count": 5,
   "metadata": {},
   "outputs": [
    {
     "name": "stdout",
     "output_type": "stream",
     "text": [
      "Mon\n",
      "Tue\n",
      "Wed\n"
     ]
    }
   ],
   "source": [
    "# A complete implementation of a Linked List\n",
    "# 2 components to this solution - a Node class and a LinkedList class\n",
    "\n",
    "class Node:\n",
    "    def __init__(self,value):\n",
    "        self.value = value\n",
    "        self.next = None\n",
    "\n",
    "\n",
    "class LinkedList:\n",
    "    def __init__(self):\n",
    "        self.head = None\n",
    "    \n",
    "    def pushOn(self,new_value):\n",
    "        new_node = Node(new_value)\n",
    "        new_node.next = self.head\n",
    "        self.head = new_node\n",
    "    \n",
    "    def insertAfter(self, prev_node, new_value):\n",
    "        # Check if the previous node even exists\n",
    "        if prev_node is None:\n",
    "            print('The given previous node must not be empty')\n",
    "            return\n",
    "        #If the node is not empty then create a new Node instance\n",
    "        new_node = Node(new_value)\n",
    "        \n",
    "        # Update the previous nodes old pointer to point to my new Node value\n",
    "        new_node.next = prev_node.next\n",
    "        \n",
    "        prev_node.next = new_node\n",
    "        \n",
    "    # This method will append to the END of the Linked List\n",
    "    def append(self,new_value):\n",
    "        #create a new Node with new value\n",
    "        new_node = Node(new_value)\n",
    "        \n",
    "        #Check if Linked List is empty\n",
    "        # and if it is ,ake this new node the head node(beginning of the list)\n",
    "        if self.head is None:\n",
    "            self.head = new_node\n",
    "        \n",
    "        #BUT if the list is NOT empty - traverse thru the end\n",
    "        #and add a new value to end of list\n",
    "        last = self.head\n",
    "        # while last.next is not None - continue to loop until we find a None value for next pointer\n",
    "        while last.next:\n",
    "            last = last.next\n",
    "        \n",
    "        # Change our current last node value to point at our new node\n",
    "        last.next = new_node\n",
    "    \n",
    "    def traverse(self):\n",
    "        temp = self.head\n",
    "        #while temp is not None = keep looping thru the links until you reach a none value\n",
    "        while temp:\n",
    "            print(temp.value)\n",
    "            temp=temp.next\n",
    "\n",
    "            \n",
    "        \n",
    "        \n",
    "\n",
    "        \n",
    "weekdays_links = LinkedList()\n",
    "\n",
    "\n",
    "# Insert a new day into LL\n",
    "\n",
    "weekdays_links.pushOn('Mon')\n",
    "weekdays_links.append('Tue')\n",
    "weekdays_links.insertAfter(weekdays_links.head.next,'Wed')\n",
    "weekdays_links.traverse()"
   ]
  },
  {
   "cell_type": "markdown",
   "metadata": {},
   "source": [
    "## Binary Search Trees"
   ]
  },
  {
   "cell_type": "code",
   "execution_count": 6,
   "metadata": {},
   "outputs": [
    {
     "name": "stdout",
     "output_type": "stream",
     "text": [
      "50\n",
      "True\n",
      "False\n"
     ]
    }
   ],
   "source": [
    "# Why? very quick lookup and insertion - child nodes on LH side must be less than parent node,\n",
    "# child node on RH side must be greateer than parent node\n",
    "class BST:\n",
    "    def __init__(self,value):\n",
    "        self.value = value\n",
    "        self.left = None\n",
    "        self.right = None\n",
    "    \n",
    "    def insert(self, value):\n",
    "        if value < self.value:\n",
    "            if self.left is None:\n",
    "                self.left = BST(value)\n",
    "            else:\n",
    "                self.left.insert(value)\n",
    "        else:\n",
    "            if self.right is None:\n",
    "                self.right = BST(value)\n",
    "            else:\n",
    "                self.right.insert(value)\n",
    "        return self\n",
    "    \n",
    "    def contains(self, value):\n",
    "        \"\"\"\n",
    "        This method accepts an integer for value parameter\n",
    "        The value parameter is what we're looking for inside of our BST\n",
    "        \"\"\"\n",
    "        if value < self.value: # if passed in value is is less than current value\n",
    "            if self.left is None:\n",
    "                return False\n",
    "            else:\n",
    "                return self.left.contains(value)\n",
    "        elif value > self.value:\n",
    "            if self.right is None:\n",
    "                return False\n",
    "            else:\n",
    "                return self.right.contains(value)\n",
    "        else:\n",
    "            return True\n",
    "        \n",
    "    def getMinValue(self):\n",
    "        if self.left is None:\n",
    "            return self.value\n",
    "        else:\n",
    "            return self.left.getMinValue()\n",
    "    \n",
    "    def getMaxValue(self):\n",
    "        if self.right is None:\n",
    "            return self.value\n",
    "        else:\n",
    "            return self.right.getMaxValue()\n",
    "    \n",
    "    def remove(self, value, parent=None):\n",
    "        if value < self.value:\n",
    "            if self.left is not None:\n",
    "                self.left.remove(value, self)\n",
    "        elif value > self.value:\n",
    "            if self.right is not None:\n",
    "                self.right.remove(value,self)\n",
    "        \n",
    "        else:\n",
    "            if self.left is not None and self.right is not None:\n",
    "                self.value = self.right.getMinValue()\n",
    "                self.right.remove(self.value, self)\n",
    "            elif parent is None:\n",
    "                if self.left is not None:\n",
    "                    self.value = self.left.value\n",
    "                    self.left = self.left.left\n",
    "                    self.right = self.left.left\n",
    "                elif self.right is not None:\n",
    "                    self.value = self.right.value\n",
    "                    self.left = self.right.left\n",
    "                    self.right = self.right.right\n",
    "                else:\n",
    "                    self.value = None\n",
    "            elif parent.left == self:\n",
    "                parent.left = self.left if self.left is not None else self.right\n",
    "            elif parent.right == self:\n",
    "                parent.right = self.left if self.left is not None else self.right\n",
    "        return self\n",
    "\n",
    "\n",
    "\n",
    "                \n",
    "bst_example = BST(39)             \n",
    "bst_example.insert(40)\n",
    "bst_example.insert(50)\n",
    "print(bst_example.getMaxValue())\n",
    "print(bst_example.contains(40))\n",
    "bst_example.remove(40)\n",
    "print(bst_example.contains(40))"
   ]
  },
  {
   "cell_type": "markdown",
   "metadata": {},
   "source": [
    "# Homework"
   ]
  },
  {
   "cell_type": "markdown",
   "metadata": {},
   "source": [
    "#### Problem 1: Linked Lists\n",
    "\n",
    "Using the above examples as a guide, create your own interpretation of the a Linked List class. You can not use the code above exactly, but again it can be used as a guide. This problem requires you to think about how a linked list works and create one using your own logic.\n",
    "\n",
    "*Remember* A Linked List is a list of Nodes that point to the next node in the chain. The first Node starts out as Empty(None) and each node after points to the next.\n",
    "\n",
    "Your Linked List should have a traverse method and have the ability to add a new node"
   ]
  },
  {
   "cell_type": "code",
   "execution_count": null,
   "metadata": {},
   "outputs": [],
   "source": []
  },
  {
   "cell_type": "markdown",
   "metadata": {},
   "source": [
    "#### Problem 2: Binary Search Tree\n",
    "\n",
    "Using the above examples as a guide, create your own interpretation of the a Binary Search Tree class. You can not use the code above exactly, but again it can be used as a guide. This problem requires you to think about how a Binary Search Tree works and create one using your own logic.\n",
    "\n",
    "*Remember* Binary Search Trees start with a head node and each node to the left of that will be smaller, each node to the right of it will be greater. The far left node should be the lowest number(if one exists) that is available. The far right node (if one exists) should be the greatest number"
   ]
  },
  {
   "cell_type": "code",
   "execution_count": null,
   "metadata": {},
   "outputs": [],
   "source": []
  }
 ],
 "metadata": {
  "kernelspec": {
   "display_name": "Python 3",
   "language": "python",
   "name": "python3"
  },
  "language_info": {
   "codemirror_mode": {
    "name": "ipython",
    "version": 3
   },
   "file_extension": ".py",
   "mimetype": "text/x-python",
   "name": "python",
   "nbconvert_exporter": "python",
   "pygments_lexer": "ipython3",
   "version": "3.7.6"
  }
 },
 "nbformat": 4,
 "nbformat_minor": 2
}
